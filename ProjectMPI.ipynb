{
 "cells": [
  {
   "cell_type": "code",
   "execution_count": 23,
   "metadata": {
    "collapsed": false
   },
   "outputs": [
    {
     "name": "stdout",
     "output_type": "stream",
     "text": [
      "Overwriting 1MPI.py\n"
     ]
    }
   ],
   "source": [
    "%%file 1MPI.py\n",
    "import numpy as np\n",
    "# import scipy as sc\n",
    "import sympy\n",
    "from sympy import *\n",
    "from mpi4py import MPI\n",
    "comm = MPI.COMM_WORLD\n",
    "rank = comm.Get_rank()\n",
    "size = comm.Get_size()\n",
    "\n",
    "def fact(n):\n",
    "    result = 1\n",
    "    for i in range(1, n + 1):\n",
    "        result *=i\n",
    "    return result\n",
    "\n",
    "def binom_coef(k, n):\n",
    "    return float(fact(n))/(float(fact(k)) * float(fact(n - k)))\n",
    "x = Symbol('x')\n",
    "y = Symbol('y')\n",
    "input_function = raw_input()\n",
    "accuracy = int(input())\n",
    "X0 = int(input())\n",
    "Y0 = int(input())\n",
    "x_min = int(input())\n",
    "x_max = int(input())\n",
    "y_min = int(input())\n",
    "y_max = int(input())\n",
    "func=sympy.sympify(input_function)\n",
    "def summa(k):\n",
    "    sum_part = 0\n",
    "    i = 1\n",
    "    # a= diff(func, x, k)\n",
    "    x_poly = diff(func, x, k).subs({x:X0, y:Y0})\n",
    "    y_poly = diff(func, y, k).subs({x:X0, y:Y0})\n",
    "    sum_part =  1.0/fact(k) * (binom_coef(0, k) * (x - X0)**k*x_poly) + 1.0/fact(k) * (binom_coef(0, k)*(y-Y0)**k*y_poly)\n",
    "    # print sum_part, 'sum'\n",
    "    k = k \n",
    "    while k-1 > 0 and k-i>0:\n",
    "        # x_poly = diff(func, x, k-i).subs({x:X0, y:Y0})\n",
    "        # y_poly = diff(func, y, i).subs({x:X0, y:Y0})\n",
    "        x_poly = diff(func, x, k-i)\n",
    "        y_poly = diff(x_poly, y, i).subs({x:X0, y:Y0}).n()\n",
    "        # sum_part = sum_part + 1.0/fact(k) * (binom_coef(i, k) * (x - X0)**(k-i)*(y-Y0)**i*x_poly*y_poly)\n",
    "        sum_part = sum_part + 1.0/fact(k) * (binom_coef(i, k) * (x - X0)**(k-i)*(y-Y0)**i*y_poly)\n",
    "        # print 'k-i = ', k-i\n",
    "        k = k-1\n",
    "        i = i + 1 \n",
    "    return sum_part\n",
    "\n",
    "Teylorr = 0\n",
    "parts = None\n",
    "print 'flag 1'\n",
    "if rank == 0:\n",
    "    print \"aaaaaa\"\n",
    "    parts = np.empty((4, 2))\n",
    "    parts[0] = [1, accuracy + 1]\n",
    "    parts[1] = [1, 4]\n",
    "    parts[2] = [5, 7]\n",
    "    parts[3] = [8, 10]\n",
    "    #for i in range(1, size):\n",
    "    #    parts[i] = [1 + int(accuracy/(size - 1))* (i - 1), int(accuracy/(size - 1) + 1) * i]\n",
    "    #    print i\n",
    "    #if size>1:\n",
    "    #    parts[size-1] = [parts[-1][-1], accuracy + 1]\n",
    "    # print parts\n",
    "    #for i in range(1, size):\n",
    "    #    comm.send(parts[i], dest=i, tag=11)\n",
    "    comm.send(parts[1], dest=1, tag=11)\n",
    "    #comm.send(parts[2], dest=2, tag=11)\n",
    "    #comm.send(parts[3], dest=3, tag=11)\n",
    "    print parts[0]\n",
    "    \n",
    "if rank in [0,1,2,3]:\n",
    "    print 'on task', rank\n",
    "    # parts = comm.recv(source=0, tag=11)\n",
    "    print 'flag'\n",
    "    #for i in range(int(parts[rank][0]) , int(parts[rank][1])):\n",
    "    #    Teylorr = Teylorr + summa(i)\n",
    "#Teylor = comm.reduce(Teylorr, None)\n",
    "#print Teylor\n",
    "Teylor = x\n",
    "#if size == 1:\n",
    "#    Teylor = 0\n",
    "#    for i in range(1, accuracy + 1):\n",
    "#        Teylor = Teylor + summa(i)\n",
    "#    print Teylor + func.subs({x:X0, y:Y0}).n()\n",
    "    \n",
    "results = Teylor + func.subs({x:X0, y:Y0}).n()\n",
    "x_massiv = np.linspace(x_min, x_max, 1000)\n",
    "y_massiv = np.linspace(y_min, y_max, 1000)\n",
    "func_massiv = np.zeros(len(x_massiv))\n",
    "for i in range(len(x_massiv)):\n",
    "    func_massiv[i] = results.subs({x:x_massiv[i], y:y_massiv[i]}).n()\n",
    "\n",
    "from matplotlib import pyplot\n",
    "from mpl_toolkits.mplot3d import Axes3D\n",
    "import random\n",
    "fig = pyplot.figure()\n",
    "ax = Axes3D(fig)\n",
    "ax.scatter(x_massiv, y_massiv, func_massiv)\n",
    "ax.set_xlabel('X Label')\n",
    "ax.set_ylabel('Y Label')\n",
    "ax.set_zlabel('Z Label')\n",
    "pyplot.show()\n",
    "    \n",
    "import numpy as np\n",
    "from mpl_toolkits.mplot3d import Axes3D # This import has side effects required for the kwarg projection='3d' in the call to fig.add_subplot\n",
    "import matplotlib.pyplot as plt\n",
    "import random\n",
    "\n",
    "def fun(x, y):\n",
    "    return x**2 + y\n",
    "\n",
    "fig = plt.figure()\n",
    "ax = fig.add_subplot(111, projection='3d')\n",
    "x = y = np.arange(-3.0, 3.0, 0.05)\n",
    "X, Y = np.meshgrid(x_massiv, y_massiv)\n",
    "# zs = np.array([fun(x,y) for x,y in zip(np.ravel(X), np.ravel(Y))])\n",
    "# Z = zs.reshape(X.shape)\n",
    "\n",
    "# ax.plot_surface(X, Y, func_massiv)\n",
    "Z = func_massiv.reshape(1, 1000)\n",
    "ax.plot_surface(X, Y, Z)\n",
    "ax.set_xlabel('X Label')\n",
    "ax.set_ylabel('Y Label')\n",
    "ax.set_zlabel('Z Label')\n",
    "\n",
    "plt.show()\n"
   ]
  },
  {
   "cell_type": "code",
   "execution_count": 32,
   "metadata": {
    "collapsed": false
   },
   "outputs": [
    {
     "name": "stderr",
     "output_type": "stream",
     "text": [
      "  File \"1.py\", line 9\n",
      "    print 'aaaaa', rank\n",
      "                ^\n",
      "SyntaxError: Missing parentheses in call to 'print'. Did you mean print('aaaaa', rank)?\n",
      "  File \"1.py\", line 9\n",
      "    print 'aaaaa', rank\n",
      "                ^\n",
      "SyntaxError: Missing parentheses in call to 'print'. Did you mean print('aaaaa', rank)?\n",
      "  File \"1.py\", line 9\n",
      "    print 'aaaaa', rank\n",
      "                ^\n",
      "SyntaxError: Missing parentheses in call to 'print'. Did you mean print('aaaaa', rank)?\n",
      "  File \"1.py\", line 9\n",
      "    print 'aaaaa', rank\n",
      "                ^\n",
      "SyntaxError: Missing parentheses in call to 'print'. Did you mean print('aaaaa', rank)?\n"
     ]
    }
   ],
   "source": [
    "!mpiexec -n 4 python 1.py"
   ]
  },
  {
   "cell_type": "code",
   "execution_count": 8,
   "metadata": {
    "collapsed": false
   },
   "outputs": [
    {
     "data": {
      "text/plain": [
       "4"
      ]
     },
     "execution_count": 8,
     "metadata": {},
     "output_type": "execute_result"
    }
   ],
   "source": [
    "range(5)[-1]"
   ]
  },
  {
   "cell_type": "code",
   "execution_count": null,
   "metadata": {
    "collapsed": true
   },
   "outputs": [],
   "source": []
  }
 ],
 "metadata": {
  "kernelspec": {
   "display_name": "Python 2",
   "language": "python",
   "name": "python2"
  },
  "language_info": {
   "codemirror_mode": {
    "name": "ipython",
    "version": 2
   },
   "file_extension": ".py",
   "mimetype": "text/x-python",
   "name": "python",
   "nbconvert_exporter": "python",
   "pygments_lexer": "ipython2",
   "version": "2.7.13"
  }
 },
 "nbformat": 4,
 "nbformat_minor": 0
}
