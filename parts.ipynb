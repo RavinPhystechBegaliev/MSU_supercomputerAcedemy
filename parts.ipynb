{
 "cells": [
  {
   "cell_type": "code",
   "execution_count": 25,
   "metadata": {
    "collapsed": false
   },
   "outputs": [
    {
     "name": "stdout",
     "output_type": "stream",
     "text": [
      "Overwriting parts.py\n"
     ]
    }
   ],
   "source": [
    "%%file parts.py\n",
    "import numpy as np\n",
    "# import scipy as sc\n",
    "import sympy\n",
    "from sympy import *\n",
    "from mpi4py import MPI\n",
    "comm = MPI.COMM_WORLD\n",
    "rank = comm.Get_rank()\n",
    "size = comm.Get_size()\n",
    "\n",
    "def fact(n):\n",
    "    result = 1\n",
    "    for i in range(1, n + 1):\n",
    "        result *=i\n",
    "    return result\n",
    "\n",
    "def binom_coef(k, n):\n",
    "    return float(fact(n))/(float(fact(k)) * float(fact(n - k)))\n",
    "x = Symbol('x')\n",
    "y = Symbol('y')\n",
    "input_function = raw_input()\n",
    "accuracy = int(input())\n",
    "X0 = int(input())\n",
    "Y0 = int(input())\n",
    "x_min = int(input())\n",
    "x_max = int(input())\n",
    "y_min = int(input())\n",
    "y_max = int(input())\n",
    "func=sympy.sympify(input_function)\n",
    "def summa(k):\n",
    "    sum_part = 0\n",
    "    i = 1\n",
    "    # a= diff(func, x, k)\n",
    "    x_poly = diff(func, x, k).subs({x:X0, y:Y0})\n",
    "    y_poly = diff(func, y, k).subs({x:X0, y:Y0})\n",
    "    sum_part =  1.0/fact(k) * (binom_coef(0, k) * (x - X0)**k*x_poly) + 1.0/fact(k) * (binom_coef(0, k)*(y-Y0)**k*y_poly)\n",
    "    # print sum_part, 'sum'\n",
    "    k = k \n",
    "    while k-1 > 0 and k-i>0:\n",
    "        # x_poly = diff(func, x, k-i).subs({x:X0, y:Y0})\n",
    "        # y_poly = diff(func, y, i).subs({x:X0, y:Y0})\n",
    "        x_poly = diff(func, x, k-i)\n",
    "        y_poly = diff(x_poly, y, i).subs({x:X0, y:Y0}).n()\n",
    "        # sum_part = sum_part + 1.0/fact(k) * (binom_coef(i, k) * (x - X0)**(k-i)*(y-Y0)**i*x_poly*y_poly)\n",
    "        sum_part = sum_part + 1.0/fact(k) * (binom_coef(i, k) * (x - X0)**(k-i)*(y-Y0)**i*y_poly)\n",
    "        # print 'k-i = ', k-i\n",
    "        k = k-1\n",
    "        i = i + 1 \n",
    "    return sum_part\n",
    "\n",
    "Teylorr = 0\n",
    "parts = None\n",
    "print 'flag 1'\n",
    "if rank == 0:\n",
    "    print \"aaaaaa\"\n",
    "    parts = np.empty((4, 2))\n",
    "    parts[0] = [1, 11]\n",
    "    parts[1] = [1, 4]\n",
    "    parts[2] = [5, 7]\n",
    "    parts[3] = [8, 10]\n",
    "    #for i in range(1, size):\n",
    "    #    parts[i] = [1 + int(accuracy/(size - 1))* (i - 1), int(accuracy/(size - 1) + 1) * i]\n",
    "    #    print i\n",
    "    #if size>1:\n",
    "    #    parts[size-1] = [parts[-1][-1], accuracy + 1]\n",
    "    # print parts\n",
    "    #for i in range(1, size):\n",
    "    #    comm.send(parts[i], dest=i, tag=11)\n",
    "    comm.send(parts[1], dest=1, tag=11)\n",
    "    comm.send(parts[2], dest=2, tag=11)\n",
    "    comm.send(parts[3], dest=3, tag=11)\n",
    "    print parts[0]\n",
    "elif rank in [1,2,3]:\n",
    "    data = comm.recv(source=0, tag=11)\n",
    "    print ('rank = ', rank)"
   ]
  },
  {
   "cell_type": "code",
   "execution_count": 27,
   "metadata": {
    "collapsed": false
   },
   "outputs": [
    {
     "name": "stdout",
     "output_type": "stream",
     "text": [
      "0.0\n"
     ]
    }
   ],
   "source": [
    "import numpy as np\n",
    "parts = np.empty((4,2))\n",
    "parts[1] = [1, 4]\n",
    "print parts[0][0]"
   ]
  },
  {
   "cell_type": "code",
   "execution_count": null,
   "metadata": {
    "collapsed": true
   },
   "outputs": [],
   "source": []
  }
 ],
 "metadata": {
  "kernelspec": {
   "display_name": "Python 2",
   "language": "python",
   "name": "python2"
  },
  "language_info": {
   "codemirror_mode": {
    "name": "ipython",
    "version": 2
   },
   "file_extension": ".py",
   "mimetype": "text/x-python",
   "name": "python",
   "nbconvert_exporter": "python",
   "pygments_lexer": "ipython2",
   "version": "2.7.13"
  }
 },
 "nbformat": 4,
 "nbformat_minor": 0
}
