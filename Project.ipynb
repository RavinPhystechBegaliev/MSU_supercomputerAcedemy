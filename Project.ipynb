{
 "cells": [
  {
   "cell_type": "code",
   "execution_count": 63,
   "metadata": {
    "collapsed": false
   },
   "outputs": [
    {
     "name": "stdout",
     "output_type": "stream",
     "text": [
      "1\n",
      "2\n",
      "3\n",
      "[[  1.  12.]\n",
      " [  1.   4.]\n",
      " [  4.   8.]\n",
      " [  8.  12.]]\n"
     ]
    }
   ],
   "source": [
    "# %%file 1.py\n",
    "import numpy as np\n",
    "import h5py\n",
    "import scipy as sc\n",
    "import sympy\n",
    "from sympy import *\n",
    "from mpi4py import MPI\n",
    "comm = MPI.COMM_WORLD\n",
    "rank = comm.Get_rank()\n",
    "size = 4\n",
    "accuracy = 11\n",
    "parts = np.empty((size, 2))\n",
    "parts[0] = [1, accuracy + 1]\n",
    "for i in range(1, size):\n",
    "    parts[i] = [1 + int(accuracy/(size - 1))* (i - 1), int(accuracy/(size - 1) + 1) * i]\n",
    "    print i\n",
    "parts[size-1] = [parts[-2][-1], accuracy + 1]\n",
    "print parts"
   ]
  },
  {
   "cell_type": "code",
   "execution_count": 4,
   "metadata": {
    "collapsed": true
   },
   "outputs": [],
   "source": [
    "# можно использовать встроенный факториал\n",
    "def fact(n):\n",
    "    result = 1\n",
    "    for i in range(1, n + 1):\n",
    "        result *=i\n",
    "    return result"
   ]
  },
  {
   "cell_type": "code",
   "execution_count": 5,
   "metadata": {
    "collapsed": true
   },
   "outputs": [],
   "source": [
    "# можно использовать встроенный коэффициент бинома ньютона\n",
    "def binom_coef(k, n):\n",
    "    return float(fact(n))/(float(fact(k)) * float(fact(n - k)))"
   ]
  },
  {
   "cell_type": "code",
   "execution_count": 6,
   "metadata": {
    "collapsed": false
   },
   "outputs": [],
   "source": [
    "x = Symbol('x')\n",
    "y = Symbol('y')"
   ]
  },
  {
   "cell_type": "code",
   "execution_count": 7,
   "metadata": {
    "collapsed": false
   },
   "outputs": [
    {
     "name": "stdout",
     "output_type": "stream",
     "text": [
      "x\n",
      "1\n",
      "0\n",
      "0\n",
      "1\n",
      "5\n",
      "1\n",
      "5\n"
     ]
    }
   ],
   "source": [
    "input_function = raw_input()\n",
    "accuracy = int(input())\n",
    "X0 = int(input())\n",
    "Y0 = int(input())\n",
    "x_min = int(input())\n",
    "x_max = int(input())\n",
    "y_min = int(input())\n",
    "y_max = int(input())"
   ]
  },
  {
   "cell_type": "code",
   "execution_count": 8,
   "metadata": {
    "collapsed": false
   },
   "outputs": [],
   "source": [
    "func=sympy.sympify(input_function)"
   ]
  },
  {
   "cell_type": "code",
   "execution_count": 9,
   "metadata": {
    "collapsed": false
   },
   "outputs": [
    {
     "name": "stdout",
     "output_type": "stream",
     "text": [
      "x\n"
     ]
    }
   ],
   "source": [
    "print func"
   ]
  },
  {
   "cell_type": "code",
   "execution_count": 10,
   "metadata": {
    "collapsed": true
   },
   "outputs": [],
   "source": [
    "def summa(k):\n",
    "    sum_part = 0\n",
    "    i = 1\n",
    "    # a= diff(func, x, k)\n",
    "    x_poly = diff(func, x, k).subs({x:X0, y:Y0})\n",
    "    y_poly = diff(func, y, k).subs({x:X0, y:Y0})\n",
    "    sum_part =  1.0/fact(k) * (binom_coef(0, k) * (x - X0)**k*x_poly) + 1.0/fact(k) * (binom_coef(0, k)*(y-Y0)**k*y_poly)\n",
    "    # print sum_part, 'sum'\n",
    "    k = k \n",
    "    while k-1 > 0 and k-i>0:\n",
    "        # x_poly = diff(func, x, k-i).subs({x:X0, y:Y0})\n",
    "        # y_poly = diff(func, y, i).subs({x:X0, y:Y0})\n",
    "        x_poly = diff(func, x, k-i)\n",
    "        y_poly = diff(x_poly, y, i).subs({x:X0, y:Y0}).n()\n",
    "        # sum_part = sum_part + 1.0/fact(k) * (binom_coef(i, k) * (x - X0)**(k-i)*(y-Y0)**i*x_poly*y_poly) верное\n",
    "        sum_part = sum_part + 1.0/fact(k) * (binom_coef(i, k) * (x - X0)**(k-i)*(y-Y0)**i*y_poly)\n",
    "        # print 'k-i = ', k-i\n",
    "        k = k-1\n",
    "        i = i + 1 \n",
    "    return sum_part"
   ]
  },
  {
   "cell_type": "code",
   "execution_count": 11,
   "metadata": {
    "collapsed": false
   },
   "outputs": [
    {
     "name": "stdout",
     "output_type": "stream",
     "text": [
      "x\n",
      "0\n"
     ]
    }
   ],
   "source": [
    "x_poly = diff(func, x, 0)\n",
    "print x_poly\n",
    "print diff(x_poly, y, 1).subs({x:X0, y:Y0})"
   ]
  },
  {
   "cell_type": "code",
   "execution_count": 12,
   "metadata": {
    "collapsed": false
   },
   "outputs": [
    {
     "name": "stdout",
     "output_type": "stream",
     "text": [
      "0\n"
     ]
    }
   ],
   "source": [
    "print summa(2)"
   ]
  },
  {
   "cell_type": "code",
   "execution_count": 13,
   "metadata": {
    "collapsed": false
   },
   "outputs": [
    {
     "name": "stdout",
     "output_type": "stream",
     "text": [
      "0\n",
      "1.0*x\n"
     ]
    }
   ],
   "source": [
    "print binom_coef(0, 1) * (x - X0)**(0)*(y-Y0)**1*diff(func, x, 0)**0*diff(func, y,1)\n",
    "print binom_coef(0, 1) * (x - X0)**(1-0)*(y-Y0)**0*diff(func, x, 1-0)*diff(func, y,0)**0"
   ]
  },
  {
   "cell_type": "code",
   "execution_count": 14,
   "metadata": {
    "collapsed": false
   },
   "outputs": [
    {
     "name": "stdout",
     "output_type": "stream",
     "text": [
      "1.0*x\n"
     ]
    }
   ],
   "source": [
    "Teylor = 0\n",
    "for i in range(1, accuracy + 1):\n",
    "    Teylor = Teylor + summa(i)\n",
    "    # print summa(i), i, 'i'\n",
    "print Teylor + func.subs({x:X0, y:Y0}).n()\n",
    "results = Teylor + func.subs({x:X0, y:Y0}).n()"
   ]
  },
  {
   "cell_type": "code",
   "execution_count": 15,
   "metadata": {
    "collapsed": false
   },
   "outputs": [
    {
     "data": {
      "text/plain": [
       "2.05000000000000"
      ]
     },
     "execution_count": 15,
     "metadata": {},
     "output_type": "execute_result"
    }
   ],
   "source": [
    "results.subs({x:2.05, y:0.98}).n()"
   ]
  },
  {
   "cell_type": "code",
   "execution_count": 16,
   "metadata": {
    "collapsed": false
   },
   "outputs": [],
   "source": [
    "x_massiv = np.linspace(x_min, x_max, 100)\n",
    "y_massiv = np.linspace(y_min, y_max, 100)"
   ]
  },
  {
   "cell_type": "code",
   "execution_count": 17,
   "metadata": {
    "collapsed": false
   },
   "outputs": [],
   "source": [
    "func_massiv = np.zeros(len(x_massiv))\n",
    "# func_massiv = np.empty((1, len(x_massiv)))\n",
    "for i in range(len(x_massiv)):\n",
    "    func_massiv[i] = results.subs({x:x_massiv[i], y:y_massiv[i]}).n()"
   ]
  },
  {
   "cell_type": "code",
   "execution_count": 18,
   "metadata": {
    "collapsed": true
   },
   "outputs": [],
   "source": [
    "from matplotlib import pyplot\n",
    "from mpl_toolkits.mplot3d import Axes3D\n",
    "import random\n",
    "fig = pyplot.figure()\n",
    "ax = Axes3D(fig)\n",
    "ax.scatter(x_massiv, y_massiv, func_massiv)\n",
    "ax.set_xlabel('X Label')\n",
    "ax.set_ylabel('Y Label')\n",
    "ax.set_zlabel('Z Label')\n",
    "pyplot.show()"
   ]
  },
  {
   "cell_type": "code",
   "execution_count": 25,
   "metadata": {
    "collapsed": false
   },
   "outputs": [
    {
     "name": "stdout",
     "output_type": "stream",
     "text": [
      "(100L,) 100\n"
     ]
    }
   ],
   "source": [
    "\n",
    "import numpy as np\n",
    "from mpl_toolkits.mplot3d import Axes3D # This import has side effects required for the kwarg projection='3d' in the call to fig.add_subplot\n",
    "import matplotlib.pyplot as plt\n",
    "import random\n",
    "\n",
    "def fun(x, y):\n",
    "    return x**2 + y\n",
    "\n",
    "fig = plt.figure()\n",
    "ax = fig.add_subplot(111, projection='3d')\n",
    "x = y = np.arange(-3.0, 3.0, 0.05)\n",
    "X, Y = np.meshgrid(x_massiv, y_massiv)\n",
    "print np.shape(func_massiv), len(func_massiv)\n",
    "Z = func_massiv.reshape(1, 100) \n",
    "ax.plot_surface(X, Y, Z)\n",
    "\n",
    "ax.set_xlabel('X Label')\n",
    "ax.set_ylabel('Y Label')\n",
    "ax.set_zlabel('Z Label')\n",
    "\n",
    "plt.show()"
   ]
  },
  {
   "cell_type": "code",
   "execution_count": 20,
   "metadata": {
    "collapsed": true
   },
   "outputs": [],
   "source": [
    "\n",
    "# func_massiv = np.empty((1, len(x_massiv)))\n",
    "def calculate_func():\n",
    "    func_massiv = np.zeros(len(x_massiv))\n",
    "    for i in range(len(x_massiv)):\n",
    "        func_massiv[i] = results.subs({x:x_massiv[i], y:y_massiv[i]}).n()\n"
   ]
  },
  {
   "cell_type": "code",
   "execution_count": null,
   "metadata": {
    "collapsed": false
   },
   "outputs": [],
   "source": [
    "!mpiexec -n 4 python 1.py"
   ]
  },
  {
   "cell_type": "code",
   "execution_count": 36,
   "metadata": {
    "collapsed": false
   },
   "outputs": [
    {
     "name": "stdout",
     "output_type": "stream",
     "text": [
      "[1, 2, 3] 2\n"
     ]
    }
   ],
   "source": [
    "print range(1,4)"
   ]
  },
  {
   "cell_type": "code",
   "execution_count": 39,
   "metadata": {
    "collapsed": false
   },
   "outputs": [
    {
     "data": {
      "text/plain": [
       "4"
      ]
     },
     "execution_count": 39,
     "metadata": {},
     "output_type": "execute_result"
    }
   ],
   "source": [
    "14//3"
   ]
  },
  {
   "cell_type": "code",
   "execution_count": 43,
   "metadata": {
    "collapsed": false
   },
   "outputs": [
    {
     "data": {
      "text/plain": [
       "4.0"
      ]
     },
     "execution_count": 43,
     "metadata": {},
     "output_type": "execute_result"
    }
   ],
   "source": [
    "math.ceil(14/3)"
   ]
  },
  {
   "cell_type": "code",
   "execution_count": 58,
   "metadata": {
    "collapsed": false
   },
   "outputs": [
    {
     "data": {
      "text/plain": [
       "[]"
      ]
     },
     "execution_count": 58,
     "metadata": {},
     "output_type": "execute_result"
    }
   ],
   "source": [
    "range(1,1)"
   ]
  },
  {
   "cell_type": "code",
   "execution_count": null,
   "metadata": {
    "collapsed": true
   },
   "outputs": [],
   "source": []
  }
 ],
 "metadata": {
  "kernelspec": {
   "display_name": "Python 2",
   "language": "python",
   "name": "python2"
  },
  "language_info": {
   "codemirror_mode": {
    "name": "ipython",
    "version": 2
   },
   "file_extension": ".py",
   "mimetype": "text/x-python",
   "name": "python",
   "nbconvert_exporter": "python",
   "pygments_lexer": "ipython2",
   "version": "2.7.13"
  }
 },
 "nbformat": 4,
 "nbformat_minor": 0
}
