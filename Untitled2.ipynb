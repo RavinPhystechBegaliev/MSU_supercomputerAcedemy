{
 "cells": [
  {
   "cell_type": "code",
   "execution_count": 1,
   "metadata": {
    "collapsed": false
   },
   "outputs": [
    {
     "name": "stdout",
     "output_type": "stream",
     "text": [
      "Writing test.py\n"
     ]
    }
   ],
   "source": [
    "%%file test.py\n",
    "import numpy as np\n",
    "import matplotlib.pyplot as plt\n",
    "import time\n",
    "from mpi4py import MPI\n",
    "#N = [100,1000,5000, 10000]\n",
    "n = 100\n",
    "# send\n",
    "from mpi4py import MPI\n",
    "\n",
    "comm = MPI.COMM_WORLD\n",
    "size = comm.Get_size()\n",
    "rank = comm.Get_rank() \n",
    "ans = 0\n",
    "data = None\n",
    "if rank == 0:\n",
    "    data = np.random.random(10)\n",
    "    print(\"sum = {}\".format(data.sum()))\n",
    "    comm.send(data[0:4], dest=1, tag=11)\n",
    "    comm.send(data[4:7], dest=2, tag=11)\n",
    "    comm.send(data[7:10], dest=3, tag=11)\n",
    "elif rank in [1,2,3]:\n",
    "    print 'on task',rank,'before recv:   data = ',data\n",
    "    data = comm.recv(source=0, tag=11)\n",
    "    ans += data.sum()\n",
    "    print 'on task',rank,'after recv:    data = ',data\n",
    "answer = comm.reduce(ans, None)\n",
    "if rank == 0:\n",
    "    print(answer)\n",
    "\n",
    "#if rank == 0:\n",
    "#    start_time = time.time()\n",
    "#    print(\"n = {}\".format(n))\n",
    "#    sum_f = Z.sum()\n",
    "#    print(\"sum_forward = {}\".format(sum_f))\n",
    "#    print(\"--- time 1 thread = %s seconds ---\" % (time.time() - start_time))\n",
    "#    time_f.append(time.time() - start_time)\n",
    "\n",
    "\n",
    "'''\n",
    "start_time = time.time()\n",
    "print(\"n*rank/4 =  {}, n*(rank+1)/4 = {}\".format((n*rank/4),(n*(rank+1)/4)-1))\n",
    "#print(Z)\n",
    "sum_par = Z[int((n*rank/4)):int((n*(rank+1)/4)-1)].sum()\n",
    "print(\"sum_par = {}, rank = {}\".format(sum_par,rank))\n",
    "print(\"--- time = %s seconds ---\" % (time.time() - start_time))\n",
    "'''\n"
   ]
  },
  {
   "cell_type": "code",
   "execution_count": 2,
   "metadata": {
    "collapsed": false
   },
   "outputs": [
    {
     "data": {
      "text/plain": [
       "[1, 2]"
      ]
     },
     "execution_count": 2,
     "metadata": {},
     "output_type": "execute_result"
    }
   ],
   "source": [
    "range(1,3)"
   ]
  },
  {
   "cell_type": "code",
   "execution_count": null,
   "metadata": {
    "collapsed": true
   },
   "outputs": [],
   "source": []
  }
 ],
 "metadata": {
  "kernelspec": {
   "display_name": "Python 2",
   "language": "python",
   "name": "python2"
  },
  "language_info": {
   "codemirror_mode": {
    "name": "ipython",
    "version": 2
   },
   "file_extension": ".py",
   "mimetype": "text/x-python",
   "name": "python",
   "nbconvert_exporter": "python",
   "pygments_lexer": "ipython2",
   "version": "2.7.13"
  }
 },
 "nbformat": 4,
 "nbformat_minor": 0
}
